{
 "cells": [
  {
   "cell_type": "code",
   "execution_count": 2,
   "id": "a335a9e5-4dc4-4160-9e9d-81f8de01c26f",
   "metadata": {},
   "outputs": [],
   "source": [
    "import numpy as np\n",
    "import pandas as pd \n",
    "import matplotlib.pyplot as plt\n",
    "import seaborn as sns\n",
    "from sklearn.model_selection import train_test_split\n",
    "from sklearn.preprocessing import StandardScaler\n",
    "from sklearn.metrics import accuracy_score"
   ]
  },
  {
   "cell_type": "code",
   "execution_count": 3,
   "id": "947998a2-a88b-483d-a2dd-52c97ae08c94",
   "metadata": {},
   "outputs": [],
   "source": [
    "data = pd.read_csv('quikr_car.csv')"
   ]
  },
  {
   "cell_type": "code",
   "execution_count": 4,
   "id": "83fd6ecd-08f1-4bb1-8500-c262b5d8c542",
   "metadata": {},
   "outputs": [],
   "source": [
    "data2 = pd.DataFrame(data)"
   ]
  },
  {
   "cell_type": "code",
   "execution_count": 5,
   "id": "9d077b3e-b3fa-42ee-8416-6bb1d0e755ce",
   "metadata": {},
   "outputs": [],
   "source": [
    "backup = data"
   ]
  },
  {
   "cell_type": "code",
   "execution_count": 6,
   "id": "1816dacf-c66a-45ac-bb90-71913124f970",
   "metadata": {},
   "outputs": [
    {
     "data": {
      "text/plain": [
       "(892, 6)"
      ]
     },
     "execution_count": 6,
     "metadata": {},
     "output_type": "execute_result"
    }
   ],
   "source": [
    "data2.shape"
   ]
  },
  {
   "cell_type": "code",
   "execution_count": 7,
   "id": "49327a24-71db-4934-b868-cbcd6f0b01d4",
   "metadata": {},
   "outputs": [
    {
     "data": {
      "text/html": [
       "<div>\n",
       "<style scoped>\n",
       "    .dataframe tbody tr th:only-of-type {\n",
       "        vertical-align: middle;\n",
       "    }\n",
       "\n",
       "    .dataframe tbody tr th {\n",
       "        vertical-align: top;\n",
       "    }\n",
       "\n",
       "    .dataframe thead th {\n",
       "        text-align: right;\n",
       "    }\n",
       "</style>\n",
       "<table border=\"1\" class=\"dataframe\">\n",
       "  <thead>\n",
       "    <tr style=\"text-align: right;\">\n",
       "      <th></th>\n",
       "      <th>name</th>\n",
       "      <th>company</th>\n",
       "      <th>year</th>\n",
       "      <th>Price</th>\n",
       "      <th>kms_driven</th>\n",
       "      <th>fuel_type</th>\n",
       "    </tr>\n",
       "  </thead>\n",
       "  <tbody>\n",
       "    <tr>\n",
       "      <th>0</th>\n",
       "      <td>Hyundai Santro Xing XO eRLX Euro III</td>\n",
       "      <td>Hyundai</td>\n",
       "      <td>2007</td>\n",
       "      <td>80,000</td>\n",
       "      <td>45,000 kms</td>\n",
       "      <td>Petrol</td>\n",
       "    </tr>\n",
       "    <tr>\n",
       "      <th>1</th>\n",
       "      <td>Mahindra Jeep CL550 MDI</td>\n",
       "      <td>Mahindra</td>\n",
       "      <td>2006</td>\n",
       "      <td>4,25,000</td>\n",
       "      <td>40 kms</td>\n",
       "      <td>Diesel</td>\n",
       "    </tr>\n",
       "    <tr>\n",
       "      <th>2</th>\n",
       "      <td>Maruti Suzuki Alto 800 Vxi</td>\n",
       "      <td>Maruti</td>\n",
       "      <td>2018</td>\n",
       "      <td>Ask For Price</td>\n",
       "      <td>22,000 kms</td>\n",
       "      <td>Petrol</td>\n",
       "    </tr>\n",
       "    <tr>\n",
       "      <th>3</th>\n",
       "      <td>Hyundai Grand i10 Magna 1.2 Kappa VTVT</td>\n",
       "      <td>Hyundai</td>\n",
       "      <td>2014</td>\n",
       "      <td>3,25,000</td>\n",
       "      <td>28,000 kms</td>\n",
       "      <td>Petrol</td>\n",
       "    </tr>\n",
       "    <tr>\n",
       "      <th>4</th>\n",
       "      <td>Ford EcoSport Titanium 1.5L TDCi</td>\n",
       "      <td>Ford</td>\n",
       "      <td>2014</td>\n",
       "      <td>5,75,000</td>\n",
       "      <td>36,000 kms</td>\n",
       "      <td>Diesel</td>\n",
       "    </tr>\n",
       "  </tbody>\n",
       "</table>\n",
       "</div>"
      ],
      "text/plain": [
       "                                     name   company  year          Price  \\\n",
       "0    Hyundai Santro Xing XO eRLX Euro III   Hyundai  2007         80,000   \n",
       "1                 Mahindra Jeep CL550 MDI  Mahindra  2006       4,25,000   \n",
       "2              Maruti Suzuki Alto 800 Vxi    Maruti  2018  Ask For Price   \n",
       "3  Hyundai Grand i10 Magna 1.2 Kappa VTVT   Hyundai  2014       3,25,000   \n",
       "4        Ford EcoSport Titanium 1.5L TDCi      Ford  2014       5,75,000   \n",
       "\n",
       "   kms_driven fuel_type  \n",
       "0  45,000 kms    Petrol  \n",
       "1      40 kms    Diesel  \n",
       "2  22,000 kms    Petrol  \n",
       "3  28,000 kms    Petrol  \n",
       "4  36,000 kms    Diesel  "
      ]
     },
     "execution_count": 7,
     "metadata": {},
     "output_type": "execute_result"
    }
   ],
   "source": [
    "data2.head()"
   ]
  },
  {
   "cell_type": "code",
   "execution_count": 8,
   "id": "e1964a87-a242-4ce2-9497-9cfe85192c9a",
   "metadata": {
    "scrolled": true
   },
   "outputs": [
    {
     "name": "stdout",
     "output_type": "stream",
     "text": [
      "<class 'pandas.core.frame.DataFrame'>\n",
      "RangeIndex: 892 entries, 0 to 891\n",
      "Data columns (total 6 columns):\n",
      " #   Column      Non-Null Count  Dtype \n",
      "---  ------      --------------  ----- \n",
      " 0   name        892 non-null    object\n",
      " 1   company     892 non-null    object\n",
      " 2   year        892 non-null    object\n",
      " 3   Price       892 non-null    object\n",
      " 4   kms_driven  840 non-null    object\n",
      " 5   fuel_type   837 non-null    object\n",
      "dtypes: object(6)\n",
      "memory usage: 41.9+ KB\n"
     ]
    }
   ],
   "source": [
    "data2.info()"
   ]
  },
  {
   "cell_type": "code",
   "execution_count": 9,
   "id": "ea7da927-7419-4970-97cc-d66383a2a76d",
   "metadata": {},
   "outputs": [
    {
     "data": {
      "text/plain": [
       "name           0\n",
       "company        0\n",
       "year           0\n",
       "Price          0\n",
       "kms_driven    52\n",
       "fuel_type     55\n",
       "dtype: int64"
      ]
     },
     "execution_count": 9,
     "metadata": {},
     "output_type": "execute_result"
    }
   ],
   "source": [
    "data2.isnull().sum()"
   ]
  },
  {
   "cell_type": "code",
   "execution_count": 11,
   "id": "58f5f635-a8b8-4254-8376-e9c835cd2b89",
   "metadata": {},
   "outputs": [
    {
     "name": "stdout",
     "output_type": "stream",
     "text": [
      "['Hyundai Santro Xing XO eRLX Euro III' 'Mahindra Jeep CL550 MDI'\n",
      " 'Maruti Suzuki Alto 800 Vxi' 'Hyundai Grand i10 Magna 1.2 Kappa VTVT'\n",
      " 'Ford EcoSport Titanium 1.5L TDCi' 'Ford Figo' 'Hyundai Eon'\n",
      " 'Ford EcoSport Ambiente 1.5L TDCi' 'Maruti Suzuki Alto K10 VXi AMT'\n",
      " 'Skoda Fabia Classic 1.2 MPI' 'Maruti Suzuki Stingray VXi'\n",
      " 'Hyundai Elite i20 Magna 1.2' 'Mahindra Scorpio SLE BS IV' 'Audi A8'\n",
      " 'Audi Q7' 'Mahindra Scorpio S10' 'Maruti Suzuki Alto 800'\n",
      " 'Hyundai i20 Sportz 1.2' 'Maruti Suzuki Alto 800 Lx'\n",
      " 'Maruti Suzuki Vitara Brezza ZDi' 'Maruti Suzuki Alto LX'\n",
      " 'Mahindra Bolero DI' 'Maruti Suzuki Swift Dzire ZDi'\n",
      " 'Mahindra Scorpio S10 4WD' 'Maruti Suzuki Swift Vdi BSIII'\n",
      " 'Maruti Suzuki Wagon R VXi BS III' 'Maruti Suzuki Wagon R VXi Minor'\n",
      " 'Toyota Innova 2.0 G 8 STR BS IV' 'Renault Lodgy 85 PS RXL'\n",
      " 'Skoda Yeti Ambition 2.0 TDI CR 4x2' 'Maruti Suzuki Baleno Delta 1.2'\n",
      " 'Renault Duster 110 PS RxZ Diesel Plus' 'Renault Duster 85 PS RxE Diesel'\n",
      " 'Honda City 1.5 S MT' 'Maruti Suzuki Dzire' 'Honda Amaze'\n",
      " 'Honda Amaze 1.5 SX i DTEC' 'Honda City' 'Datsun Redi GO S'\n",
      " 'Maruti Suzuki SX4 ZXI MT' 'Mitsubishi Pajero Sport Limited Edition'\n",
      " 'Maruti Suzuki Swift VXi 1.2 ABS BS IV' 'Honda City ZX CVT'\n",
      " 'Maruti Suzuki Wagon R LX BS IV' 'Tata Indigo eCS LS CR4 BS IV'\n",
      " 'Volkswagen Polo Highline Exquisite P' 'I want to sell my car Tata Zest'\n",
      " 'Chevrolet Spark LS 1.0' 'Renault Duster 110PS Diesel RxZ'\n",
      " 'Mini Cooper S 1.6' 'Skoda Fabia 1.2L Diesel Ambiente' 'Renault Duster'\n",
      " 'Mahindra Scorpio S4' 'Mahindra Scorpio VLX 2WD BS IV'\n",
      " 'Mahindra Quanto C8' 'Ford EcoSport' 'Honda Brio'\n",
      " 'Volkswagen Vento Highline Plus 1.5 Diesel AT' 'Hyundai i20 Magna'\n",
      " 'Toyota Corolla Altis Diesel D4DG' 'Hyundai Verna Transform SX VTVT'\n",
      " 'Toyota Corolla Altis Petrol Ltd' 'Honda City 1.5 EXi New'\n",
      " 'Skoda Fabia 1.2L Diesel Elegance' 'BMW 3 Series 320i'\n",
      " 'Maruti Suzuki A Star Lxi' 'Toyota Etios GD'\n",
      " 'Ford Figo Diesel EXI Option' 'Maruti Suzuki Swift Dzire VXi 1.2 BS IV'\n",
      " 'Chevrolet Beat LT Diesel' 'BMW 7 Series 740Li Sedan'\n",
      " 'Mahindra XUV500 W8 AWD 2013' 'Hyundai i10 Magna 1.2'\n",
      " 'Hyundai Verna Fluidic New' 'Maruti Suzuki Swift VXi 1.2 BS IV'\n",
      " 'Maruti Suzuki Ertiga ZXI Plus' 'Maruti Suzuki Ertiga Vxi'\n",
      " 'Maruti Suzuki Ertiga VDi' 'Maruti Suzuki Alto LXi BS III'\n",
      " 'Hyundai Grand i10 Asta 1.1 CRDi' 'Honda Amaze 1.2 S i VTEC'\n",
      " 'Hyundai i20 Asta 1.4 CRDI 6 Speed' 'Ford Figo Diesel EXI'\n",
      " 'Maruti Suzuki Eeco 5 STR WITH AC HTR' 'Maruti Suzuki Ertiga ZXi'\n",
      " 'Maruti Suzuki Esteem LXi BS III' 'Maruti Suzuki Ritz VXI'\n",
      " 'Maruti Suzuki Ritz LDi' 'Maruti Suzuki Dzire VDI' 'Toyota Etios Liva G'\n",
      " 'Hyundai i20 Sportz 1.4 CRDI' 'Chevrolet Spark' 'Nissan Micra XV'\n",
      " 'Maruti Suzuki Swift' 'Honda Amaze 1.5 S i DTEC' 'Chevrolet Beat'\n",
      " 'Toyota Corolla' 'Honda City 1.5 V MT' 'Ford EcoSport Trend 1.5L TDCi'\n",
      " 'Hyundai i20 Asta 1.2' 'Tata Indica V2 eLS' 'Maruti Suzuki Alto 800 Lxi'\n",
      " 'Hindustan Motors Ambassador' 'Toyota Corolla Altis 1.8 GL'\n",
      " 'Toyota Corolla Altis 1.8 J' 'Toyota Innova 2.5 GX BS IV 7 STR'\n",
      " 'Volkswagen Jetta Highline TDI AT' 'Volkswagen Polo Comfortline 1.2L P'\n",
      " 'Volkswagen Polo' 'Mahindra Scorpio' 'Nissan Sunny' 'Hyundai Elite i20'\n",
      " 'Renault Kwid' 'Mahindra Scorpio VLX Airbag' 'Chevrolet Spark LT 1.0'\n",
      " 'Datsun Redi GO T O' 'Maruti Suzuki Swift RS VDI'\n",
      " 'Fiat Punto Emotion 1.2' 'Hyundai i10 Sportz 1.2'\n",
      " 'Chevrolet Beat LT Opt Diesel' 'Chevrolet Beat LS Diesel'\n",
      " 'Tata Indigo CS' 'Maruti Suzuki Swift VDi' 'Hyundai Eon Era Plus'\n",
      " 'Mahindra XUV500' 'Ford Fiesta' 'Maruti Suzuki Wagon R' 'Hyundai i20'\n",
      " 'Tata Indigo eCS LX TDI BS III' 'Hyundai Fluidic Verna 1.6 CRDi SX'\n",
      " 'Commercial , DZire LDI, 2016, for sale' 'Fiat Petra ELX 1.2 PS'\n",
      " 'Hyundai Santro Xing XS' 'Maruti Suzuki Ciaz VXi Plus'\n",
      " 'Maruti Suzuki Zen VX' 'Hyundai Creta 1.6 SX Plus Petrol'\n",
      " 'Tata indigo ecs LX, 201' 'Mahindra Scorpio SLX'\n",
      " 'Toyota Innova 2.5 G BS III 8 STR' 'Maruti Suzuki Wagon R LXI BS IV'\n",
      " 'Tata Nano Cx BSIV' 'Maruti Suzuki Alto Std BS IV'\n",
      " 'Maruti Suzuki Wagon R LXi BS III' 'Maruti Suzuki Swift VXI BSIII'\n",
      " 'Tata Sumo Victa EX 10 by 7 Str BSIII' 'MARUTI SUZUKI DESI'\n",
      " 'Volkswagen Passat Diesel Comfortline AT'\n",
      " 'Renault Scala RxL Diesel Travelogue'\n",
      " 'Hyundai Grand i10 Sportz O 1.2 Kappa VTVT' 'Hyundai i20 Active 1.2 SX'\n",
      " 'Mahindra Xylo E4' 'Mahindra Jeep MM 550 XDB' 'Mahindra Bolero SLE BS IV'\n",
      " 'Force Motors Force One LX ABS 7 STR' 'Maruti Suzuki SX4' 'Toyota Etios'\n",
      " 'Honda City ZX VTEC' 'Maruti Suzuki Wagon R LX BS III'\n",
      " 'Honda City VX O MT Diesel' 'Mahindra Thar CRDe 4x4 AC'\n",
      " 'Audi A4 1.8 TFSI Multitronic Premium Plus'\n",
      " 'Mercedes Benz GLA Class 200 CDI Sport' 'Land Rover Freelander 2 SE'\n",
      " 'Renault Kwid RXT' 'Tata Aria Pleasure 4X2'\n",
      " 'Mercedes Benz B Class B180 Sports' 'Datsun GO T O' 'Honda Jazz VX MT'\n",
      " 'Hyundai i20 Active 1.4L SX O' 'Mini Cooper S'\n",
      " 'Maruti Suzuki Ciaz ZXI Plus' 'Chevrolet Tavera Neo' 'Hyundai Eon Sportz'\n",
      " 'Tata Sumo Gold Select Variant' 'Maruti Suzuki Wagon R 1.0'\n",
      " 'Maruti Suzuki Esteem VXi BS III' 'Chevrolet Enjoy 1.4 LS 8 STR'\n",
      " 'Maruti Suzuki Wagon R 1.0 VXi' 'Nissan Terrano XL D Plus'\n",
      " 'Renault Duster 85 PS RxL Diesel' 'Maruti Suzuki Dzire ZXI'\n",
      " 'Renault Kwid RXT Opt' 'Maruti Suzuki Maruti 800 Std'\n",
      " 'Renault Kwid 1.0 RXT AMT' 'Renault Scala RxL Diesel'\n",
      " 'Hyundai Grand i10 Asta 1.2 Kappa VTVT O' 'Chevrolet Beat LS Petrol'\n",
      " 'Hyundai Accent GLX' 'Yama' 'Maruti Suzuki Swift LDi'\n",
      " 'Mahindra TUV300 T4 Plus' 'Tata Indica V2 Xeta e GLE'\n",
      " 'Tata Indigo CS LS DiCOR' 'Mahindra Scorpio VLX Special Edition BS III'\n",
      " 'Tata Indica eV2 LS' 'Honda Accord' 'Ford EcoSport Titanium 1.5 TDCi'\n",
      " 'Maruti Suzuki Ertiga' 'Mahindra Scorpio 2.6 CRDe' 'Honda Mobilio'\n",
      " 'Toyota Corolla Altis' 'Skoda Laura' 'Hyundai Verna Fluidic'\n",
      " 'Maruti Suzuki Vitara Brezza' 'Tata Manza Aura Quadrajet'\n",
      " 'Chevrolet Sail UVA Petrol LT ABS' 'Hyundai Verna Fluidic 1.6 VTVT SX'\n",
      " 'Audi A4 2.0 TDI 177bhp Premium' 'Hyundai Elantra SX'\n",
      " 'Mahindra Scorpio VLX 4WD Airbag' 'Mahindra KUV100 K8 D 6 STR'\n",
      " 'Hyundai Grand i10' 'Hyundai i10' 'Hyundai i20 Active' 'Datsun Redi GO'\n",
      " 'Toyota Etios Liva' 'Hyundai Accent' 'Hyundai Verna' 'Toyota Fortuner'\n",
      " 'Hyundai i10 Sportz' 'Mahindra Bolero Power Plus SLE' 'selling car Ta'\n",
      " 'Honda City 1.5 V MT Exclusive' 'Chevrolet Spark LT 1.0 Airbag'\n",
      " 'Tata Indigo eCS VX CR4 BS IV' 'Tata Zest 90'\n",
      " 'Skoda Rapid Elegance 1.6 TDI CR MT' 'Tata Vista Quadrajet VX'\n",
      " 'Maruti Suzuki Alto K10 VXi AT' 'Maruti Suzuki Zen LXi BS III'\n",
      " 'Maruti Suzuki Swift Dzire Tour LDi' 'Honda City ZX EXi'\n",
      " 'Chevrolet Beat Diesel' 'Maruti Suzuki Swift Dzire car'\n",
      " 'Hyundai Verna 1.4 VTVT' 'Toyota Innova 2.5 E MS 7 STR BS IV'\n",
      " 'Maruti Suzuki Maruti 800 Std – Befo' 'Hyundai Elite i20 Asta 1.4 CRDI'\n",
      " 'Maruti Suzuki Swift Dzire Tour (Gat'\n",
      " 'Maruti Suzuki Versa DX2 8 SEATER BSIII' 'Tata Indigo LX TDI BS III'\n",
      " 'Volkswagen Vento Konekt Diesel Highline'\n",
      " 'Mercedes Benz C Class 200 CDI Classic' 'URJE' 'Hyundai Santro Xing GLS'\n",
      " 'Maruti Suzuki Omni Limited Edition'\n",
      " 'Hyundai Sonata Transform 2.4 GDi MT' 'Hyundai Elite i20 Sportz 1.2'\n",
      " 'Honda Jazz S MT' 'Hyundai Grand i10 Sportz 1.2 Kappa VTVT'\n",
      " 'Maruti Suzuki Zen LXi BSII' 'Mahindra Scorpio W Turbo 2.6DX 9 Seater'\n",
      " 'Swift Dzire Tour 27 Dec 2016 Regis' 'Maruti Suzuki Alto K10 VXi'\n",
      " 'Hyundai Grand i10 Asta 1.2 Kappa VTVT' 'Mahindra XUV500 W8'\n",
      " 'Hyundai i20 Magna O 1.2' 'Renault Duster 85 PS RxL Explore LE'\n",
      " 'Honda Brio V MT' 'Mahindra TUV300 T8' 'Nissan X Trail Select Variant'\n",
      " 'Ford Ikon 1.3 CLXi NXt Finesse' 'Toyota Fortuner 3.0 4x4 MT'\n",
      " 'Tata Manza ELAN Quadrajet' 'Tata zest x' 'Mahindra xyl'\n",
      " 'Mercedes Benz A Class A 180 Sport Petrol' 'Tata Indigo LS'\n",
      " 'Hyundai i20 Magna 1.2' 'Used Commercial Maruti Omn'\n",
      " 'Honda Amaze 1.5 E i DTEC' 'Hyundai Verna 1.6 EX VTVT'\n",
      " 'BMW 5 Series 520d Sedan' 'Skoda Superb 1.8 TFSI AT'\n",
      " 'Audi Q3 2.0 TDI quattro Premium' 'Mahindra Bolero DI BSII'\n",
      " 'Maruti Suzuki Zen Estilo LXI Green CNG'\n",
      " 'Ford Figo Duratorq Diesel Titanium 1.4'\n",
      " 'Maruti Suzuki Wagon R VXI BS IV' 'Mahindra Logan Diesel 1.5 DLS'\n",
      " 'Tata Nano GenX XMA' 'Honda City SV' 'Ford Figo Petrol LXI'\n",
      " 'Hyundai i10 Magna 1.2 Kappa2' 'Toyota Corolla H2'\n",
      " 'Maruti Suzuki Swift Dzire Tour VXi' 'Tata Indigo CS eLS BS IV'\n",
      " 'Hyundai Xcent Base 1.1 CRDi' 'Hyundai Accent Executive Edition'\n",
      " 'Tata Zest XE 75 PS Diesel' 'Maruti Suzuki Dzire LDI'\n",
      " 'Tata Sumo Gold LX BS IV' 'Toyota Corolla Altis GL Petrol'\n",
      " 'Maruti Suzuki Eeco 7 STR' 'Toyota Fortuner 3.0 4x2 MT'\n",
      " 'Mahindra XUV500 W6' 'Tata Tigor Revotron XZ' 'Maruti Suzuki 800'\n",
      " 'Honda Mobilio S i DTEC' 'Hyundai Verna 1.6 CRDI E'\n",
      " 'Maruti Suzuki Omni Select Variant' 'Tata Indica' 'Hyundai Santro Xing'\n",
      " 'Maruti Suzuki Zen Estilo' 'Honda Brio VX AT'\n",
      " 'Maruti Suzuki Wagon R Select Variant' 'Tata Nano Lx BSIV'\n",
      " 'Jaguar XE XE Portfolio' 'Hyundai Xcent S 1.2' 'Hyundai Eon Magna Plus'\n",
      " 'Maruti Suzuki Ritz GENUS VXI'\n",
      " 'Hyundai Grand i10 Magna AT 1.2 Kappa VTVT' 'Hyundai Eon D Lite Plus'\n",
      " 'Honda Amaze 1.2 VX i VTEC' 'Maruti Suzuki Estilo VXi ABS BS IV'\n",
      " 'Maruti Suzuki Vitara Brezza LDi O' 'Toyota Innova 2.0 V'\n",
      " 'Hyundai Creta 1.6 SX Plus Petrol AT' 'Mahindra Scorpio Vlx BSIV'\n",
      " 'Mitsubishi Lancer 1.8 LXi' 'Maruti Suzuki Maruti 800 AC'\n",
      " 'Maruti Suzuki Alto 800 LXI CNG O' 'Ford Fiesta SXi 1.6 ABS'\n",
      " 'Maruti Suzuki Ritz VDi' 'Maruti Suzuki Estilo LX BS IV'\n",
      " 'Audi A6 2.0 TDI Premium' 'Maruti Suzuki Alto'\n",
      " 'Maruti Suzuki Baleno Sigma 1.2' 'Hyundai Verna 1.6 SX VTVT AT'\n",
      " 'Maruti Suzuki Swift GLAM' 'Hyundai Getz Prime 1.3 GVS' 'Hyundai Santro'\n",
      " 'Hyundai Getz Prime 1.3 GLX' 'Chevrolet Beat PS Diesel'\n",
      " 'Ford EcoSport Trend 1.5 Ti VCT' 'Tata Indica V2 DLG'\n",
      " 'BMW X1 xDrive20d xLine' 'Honda City 1.5 V AT' 'Tata Nano'\n",
      " 'Chevrolet Cruze LTZ AT' 'Hyun' 'Maruti Suzuki Swift Dzire VDi'\n",
      " 'Mahindra XUV500 W10' 'Maruti Suzuki Alto K10 LXi CNG'\n",
      " 'Hyundai Accent GLE' 'Force Motors One SUV' 'Datsun Go Plus T O'\n",
      " 'Chevrolet Spark 1.0 LT' 'Toyota Etios Liva GD'\n",
      " 'Renault Duster 85PS Diesel RxL Optional with Nav' 'Chevrolet Enjoy'\n",
      " 'BMW 5 Series 530i' 'Chevrolet Cruze LTZ'\n",
      " 'Jeep Wrangler Unlimited 4x4 Diesel' 'Hyundai Verna VGT CRDi SX ABS'\n",
      " 'Maruti Suzuki Omni' 'Maruti Suzuki Celerio VDi'\n",
      " 'Tata Zest Quadrajet 1.3' 'Tata Indigo CS eLX BS IV' 'Hyundai i10 Era'\n",
      " 'Tata Indigo eCS LX CR4 BS IV' 'Tata Indigo Marina LS'\n",
      " 'Commercial Chevrolet Sail Hatchback ca' 'Hyundai Xcent SX 1.2'\n",
      " 'Tata Nano LX Special Edition' 'Commercial Car Ta'\n",
      " 'Renault Duster 110 PS RxZ Diesel' 'Maruti Suzuki Wagon R AX BSIV'\n",
      " 'Maruti Suzuki Alto K10 New' 'tata Indica' 'Mahindra Xylo E8'\n",
      " 'Tata Manza Aqua Quadrajet' 'Used bt new conditions ta'\n",
      " 'Renault Kwid 1.0' 'Sale tata' 'Tata Venture EX 8 STR'\n",
      " 'Maruti Suzuki Swift Dzire Tour LXi' 'Maruti Suzuki Alto LX BSII'\n",
      " 'Skoda Octavia Classic 1.9 TDI MT' 'Maruti Suzuki Omni LPG BS IV'\n",
      " 'Tata Sumo Gold EX BS IV' 'Tata indigo 2017 top model..'\n",
      " 'Hyundai Verna 1.6 CRDI SX' 'Mahindra Scorpio SLX 2.6 Turbo 8 Str'\n",
      " 'Ford Ikon 1.6 Nxt' 'Tata indigo' 'Toyota Innova 2.5 V 7 STR'\n",
      " 'Nissan Sunny XL' 'Maruti Suzuki Swift VDi BS IV'\n",
      " 'very good condition tata bolts are av' 'Toyota Innova 2.0 G4'\n",
      " 'Sale Hyundai xcent commerc' 'Maruti Suzuki Swift VDi ABS'\n",
      " 'Hyundai Elite i20 Asta 1.2' 'Volkswagen Polo Trendline 1.5L D'\n",
      " 'Toyota Etios Liva Diesel' 'Maruti Suzuki Ciaz ZXi Plus RS'\n",
      " 'Hyundai Elantra 1.8 S' 'Ford EcoSport Trend 1.5L Ti VCT'\n",
      " 'Jaguar XF 2.2 Diesel Luxury' 'Audi Q5 2.0 TDI quattro Premium Plus'\n",
      " 'BMW 3 Series 320d Sedan' 'Maruti Suzuki Swift ZXi 1.2 BS IV'\n",
      " 'BMW X1 sDrive20d' 'Maruti Suzuki S Cross Sigma 1.3'\n",
      " 'Maruti Suzuki Ertiga LDi' 'Volkswagen Vento Comfortline Petrol'\n",
      " 'Mahindra KUV100' 'Maruti Suzuki Swift Dzire Tour VDi'\n",
      " 'Mahindra Scorpio 2.6 SLX' 'Maruti Suzuki Omni 8 STR BS III'\n",
      " 'Volkswagen Jetta Comfortline 1.9 TDI AT' 'Volvo S80 Summum D4'\n",
      " 'Toyota Corolla Altis VL AT Petrol' 'Mitsubishi Pajero Sport 2.5 AT'\n",
      " 'Chevrolet Beat LT Petrol' 'BMW X1'\n",
      " 'Mercedes Benz C Class C 220 CDI Avantgarde'\n",
      " 'Volkswagen Vento Comfortline Diesel' 'Tata Indigo CS GLS'\n",
      " 'Ford Figo Petrol Titanium' 'Honda City ZX GXi'\n",
      " 'Maruti Suzuki Wagon R Duo Lxi' 'Maruti Suzuki Zen LX BSII'\n",
      " 'Renault Duster RxL Petrol' 'Maruti Suzuki Baleno Zeta 1.2'\n",
      " 'Honda WR V S MT Petrol' 'Renault Duster 110 PS RxL Diesel'\n",
      " 'Mahindra Scorpio LX BS III' 'Maruti Suzuki SX4 Celebration Diesel'\n",
      " 'Audi A3 Cabriolet 40 TFSI' 'I want to sell my commercial car due t'\n",
      " 'Hyundai Santro AE GLS Audio' 'i want sale my car.no emi....uber atta'\n",
      " 'Tata ZEST 6 month old' 'Mahindra Xylo D2 BS IV' 'Hyundai Getz GLE'\n",
      " 'Hyundai Creta 1.6 SX' 'Hyundai Santro Xing XL AT eRLX Euro III'\n",
      " 'Hyundai Santro Xing XL eRLX Euro III' 'Tata Indica V2 DLS BS III'\n",
      " 'Honda City 1.5 E MT' 'Nissan Micra XL' 'Honda City 1.5 S Inspire'\n",
      " 'Tata Indica eV2 eXeta eGLX' 'Maruti Suzuki Omni E 8 STR BS IV'\n",
      " 'MARUTI SUZUKI ERTIGA F' 'Hyundai Verna 1.6 CRDI SX Plus AT'\n",
      " 'Chevrolet Tavera LS B3 10 Seats BSII' 'Tata Tiago Revotron XM'\n",
      " 'Tata Tiago Revotorq XZ' 'Tata Nexon' 'Tata'\n",
      " 'Hindustan Motors Ambassador Classic Mark 4 – Befo'\n",
      " 'Ford Fusion 1.4 TDCi Diesel' 'Fiat Linea Emotion 1.4 L T Jet Petrol'\n",
      " 'Ford Ikon 1.3 Flair Josh 100' 'Tata Indica V2 LS' 'Mahindra Xylo D2'\n",
      " 'Hyundai Eon Magna' 'Tata Sumo Grande MKII GX'\n",
      " 'Volkswagen Polo Highline1.2L P' 'Tata Tiago Revotron XZ'\n",
      " 'Tata Indigo eCS' '2012 Tata Sumo Gold f' 'Mahindra Xylo E8 BS IV'\n",
      " 'Well mentained Tata Sumo' 'all paper updated tata indica v2 and u'\n",
      " 'Maruti Ertiga showroom condition with'\n",
      " '7 SEATER MAHINDRA BOLERO IN VERY GOOD' '9 SEATER MAHINDRA BOL'\n",
      " 'scratch less Tata I' 'Maruti Suzuki swift dzire for sale in'\n",
      " 'Commercial Chevrolet beat for sale in' 'urgent sell my Mahindra qu'\n",
      " 'Tata Sumo Gold FX BSIII' 'sell my car Maruti Suzuki Swif'\n",
      " 'Maruti Suzuki Swift Dzire good car fo' 'Hyunda'\n",
      " 'Commercial Maruti Suzuki Alto Lxi 800' 'urgent sale Ta'\n",
      " 'Maruti Suzuki Alto vxi t' 'tata' 'TATA INDI' 'Hyundai Creta'\n",
      " 'Tata Bolt XM Petrol' 'Hyundai Venue' 'Maruti Suzuki Ritz'\n",
      " 'Renault Lodgy' 'Hyundai i20 Asta' 'Maruti Suzuki Swift Select Variant'\n",
      " 'Tata Indica V2 DLX BS III' 'Mahindra Scorpio VLX 2.2 mHawk Airbag BSIV'\n",
      " 'Toyota Innova 2.5 E 8 STR' 'Mahindra KUV100 K8 6 STR' 'Datsun Go Plus'\n",
      " 'Ford Endeavor 4x4 Thunder Plus' 'Tata Indica V2'\n",
      " 'Hyundai Santro Xing GL' 'Toyota Innova 2.5 Z Diesel 7 Seater'\n",
      " 'Any type car avaiabel hare...comercica' 'Maruti Suzuki Alto AX'\n",
      " 'Mahindra Logan' 'Maruti Suzuki 800 Std BS III' 'Chevrolet Sail 1.2 LS'\n",
      " 'Volkswagen Vento Highline Plus 1.5 Diesel' 'Tata Manza'\n",
      " 'Toyota Innova 2.0 G1 Petrol 8seater' 'Toyota Etios G' 'Toyota Qualis'\n",
      " 'Mahindra Quanto C4' 'Maruti Suzuki Swift Dzire'\n",
      " 'Hyundai i20 Select Variant' 'Honda City VX Petrol' 'Hyundai Getz'\n",
      " 'Mercedes Benz C Class 200 K MT' 'Skoda Fabia'\n",
      " 'Maruti Suzuki Alto 800 Select Variant' 'Maruti Suzuki Ritz VXI ABS'\n",
      " 'tata zest 2017 f' 'Tata Indica V2 DLE BS III' 'Ta' 'Tata Zest XM Diesel'\n",
      " 'Honda Amaze 1.2 E i VTEC' 'Chevrolet Sail 1.2 LT ABS']\n",
      "******************************************************************************************************************************************************\n",
      "['Hyundai' 'Mahindra' 'Maruti' 'Ford' 'Skoda' 'Audi' 'Toyota' 'Renault'\n",
      " 'Honda' 'Datsun' 'Mitsubishi' 'Tata' 'Volkswagen' 'I' 'Chevrolet' 'Mini'\n",
      " 'BMW' 'Nissan' 'Hindustan' 'Fiat' 'Commercial' 'MARUTI' 'Force'\n",
      " 'Mercedes' 'Land' 'Yamaha' 'selling' 'URJENT' 'Swift' 'Used' 'Jaguar'\n",
      " 'Jeep' 'tata' 'Sale' 'very' 'Volvo' 'i' '2012' 'Well' 'all' '7' '9'\n",
      " 'scratch' 'urgent' 'sell' 'TATA' 'Any' 'Tara']\n",
      "******************************************************************************************************************************************************\n",
      "['2007' '2006' '2018' '2014' '2015' '2012' '2013' '2016' '2010' '2017'\n",
      " '2008' '2011' '2019' '2009' '2005' '2000' '...' '150k' 'TOUR' '2003'\n",
      " 'r 15' '2004' 'Zest' '/-Rs' 'sale' '1995' 'ara)' '2002' 'SELL' '2001'\n",
      " 'tion' 'odel' '2 bs' 'arry' 'Eon' 'o...' 'ture' 'emi' 'car' 'able' 'no.'\n",
      " 'd...' 'SALE' 'digo' 'sell' 'd Ex' 'n...' 'e...' 'D...' ', Ac' 'go .'\n",
      " 'k...' 'o c4' 'zire' 'cent' 'Sumo' 'cab' 't xe' 'EV2' 'r...' 'zest']\n",
      "******************************************************************************************************************************************************\n",
      "['80,000' '4,25,000' 'Ask For Price' '3,25,000' '5,75,000' '1,75,000'\n",
      " '1,90,000' '8,30,000' '2,50,000' '1,82,000' '3,15,000' '4,15,000'\n",
      " '3,20,000' '10,00,000' '5,00,000' '3,50,000' '1,60,000' '3,10,000'\n",
      " '75,000' '1,00,000' '2,90,000' '95,000' '1,80,000' '3,85,000' '1,05,000'\n",
      " '6,50,000' '6,89,999' '4,48,000' '5,49,000' '5,01,000' '4,89,999'\n",
      " '2,80,000' '3,49,999' '2,84,999' '3,45,000' '4,99,999' '2,35,000'\n",
      " '2,49,999' '14,75,000' '3,95,000' '2,20,000' '1,70,000' '85,000'\n",
      " '2,00,000' '5,70,000' '1,10,000' '4,48,999' '18,91,111' '1,59,500'\n",
      " '3,44,999' '4,49,999' '8,65,000' '6,99,000' '3,75,000' '2,24,999'\n",
      " '12,00,000' '1,95,000' '3,51,000' '2,40,000' '90,000' '1,55,000'\n",
      " '6,00,000' '1,89,500' '2,10,000' '3,90,000' '1,35,000' '16,00,000'\n",
      " '7,01,000' '2,65,000' '5,25,000' '3,72,000' '6,35,000' '5,50,000'\n",
      " '4,85,000' '3,29,500' '2,51,111' '5,69,999' '69,999' '2,99,999'\n",
      " '3,99,999' '4,50,000' '2,70,000' '1,58,400' '1,79,000' '1,25,000'\n",
      " '2,99,000' '1,50,000' '2,75,000' '2,85,000' '3,40,000' '70,000'\n",
      " '2,89,999' '8,49,999' '7,49,999' '2,74,999' '9,84,999' '5,99,999'\n",
      " '2,44,999' '4,74,999' '2,45,000' '1,69,500' '3,70,000' '1,68,000'\n",
      " '1,45,000' '98,500' '2,09,000' '1,85,000' '9,00,000' '6,99,999'\n",
      " '1,99,999' '5,44,999' '1,99,000' '5,40,000' '49,000' '7,00,000' '55,000'\n",
      " '8,95,000' '3,55,000' '5,65,000' '3,65,000' '40,000' '4,00,000'\n",
      " '3,30,000' '5,80,000' '3,79,000' '2,19,000' '5,19,000' '7,30,000'\n",
      " '20,00,000' '21,00,000' '14,00,000' '3,11,000' '8,55,000' '5,35,000'\n",
      " '1,78,000' '3,00,000' '2,55,000' '5,49,999' '3,80,000' '57,000'\n",
      " '4,10,000' '2,25,000' '1,20,000' '59,000' '5,99,000' '6,75,000' '72,500'\n",
      " '6,10,000' '2,30,000' '5,20,000' '5,24,999' '4,24,999' '6,44,999'\n",
      " '5,84,999' '7,99,999' '4,44,999' '6,49,999' '9,44,999' '5,74,999'\n",
      " '3,74,999' '1,30,000' '4,01,000' '13,50,000' '1,74,999' '2,39,999'\n",
      " '99,999' '3,24,999' '10,74,999' '11,30,000' '1,49,000' '7,70,000'\n",
      " '30,000' '3,35,000' '3,99,000' '65,000' '1,69,999' '1,65,000' '5,60,000'\n",
      " '9,50,000' '7,15,000' '45,000' '9,40,000' '1,55,555' '15,00,000'\n",
      " '4,95,000' '8,00,000' '12,99,000' '5,30,000' '14,99,000' '32,000'\n",
      " '4,05,000' '7,60,000' '7,50,000' '4,19,000' '1,40,000' '15,40,000'\n",
      " '1,23,000' '4,98,000' '4,80,000' '4,88,000' '15,25,000' '5,48,900'\n",
      " '7,25,000' '99,000' '52,000' '28,00,000' '4,99,000' '3,81,000' '2,78,000'\n",
      " '6,90,000' '2,60,000' '90,001' '1,15,000' '15,99,000' '1,59,000' '51,999'\n",
      " '2,15,000' '35,000' '11,50,000' '2,69,000' '60,000' '4,30,000'\n",
      " '85,00,003' '4,01,919' '4,90,000' '4,24,000' '2,05,000' '5,49,900'\n",
      " '3,71,500' '4,35,000' '1,89,700' '3,89,700' '3,60,000' '2,95,000'\n",
      " '1,14,990' '10,65,000' '4,70,000' '48,000' '1,88,000' '4,65,000'\n",
      " '1,79,999' '21,90,000' '23,90,000' '10,75,000' '4,75,000' '10,25,000'\n",
      " '6,15,000' '19,00,000' '14,90,000' '15,10,000' '18,50,000' '7,90,000'\n",
      " '17,25,000' '12,25,000' '68,000' '9,70,000' '31,00,000' '8,99,000'\n",
      " '88,000' '53,000' '5,68,500' '71,000' '5,90,000' '7,95,000' '42,000'\n",
      " '1,89,000' '1,62,000' '35,999' '29,00,000' '39,999' '50,500' '5,10,000'\n",
      " '8,60,000' '5,00,001']\n",
      "******************************************************************************************************************************************************\n",
      "['45,000 kms' '40 kms' '22,000 kms' '28,000 kms' '36,000 kms' '59,000 kms'\n",
      " '41,000 kms' '25,000 kms' '24,530 kms' '60,000 kms' '30,000 kms'\n",
      " '32,000 kms' '48,660 kms' '4,000 kms' '16,934 kms' '43,000 kms'\n",
      " '35,550 kms' '39,522 kms' '39,000 kms' '55,000 kms' '72,000 kms'\n",
      " '15,975 kms' '70,000 kms' '23,452 kms' '35,522 kms' '48,508 kms'\n",
      " '15,487 kms' '82,000 kms' '20,000 kms' '68,000 kms' '38,000 kms'\n",
      " '27,000 kms' '33,000 kms' '46,000 kms' '16,000 kms' '47,000 kms'\n",
      " '35,000 kms' '30,874 kms' '15,000 kms' '29,685 kms' '1,30,000 kms'\n",
      " '19,000 kms' nan '54,000 kms' '13,000 kms' '38,200 kms' '50,000 kms'\n",
      " '13,500 kms' '3,600 kms' '45,863 kms' '60,500 kms' '12,500 kms'\n",
      " '18,000 kms' '13,349 kms' '29,000 kms' '44,000 kms' '42,000 kms'\n",
      " '14,000 kms' '49,000 kms' '36,200 kms' '51,000 kms' '1,04,000 kms'\n",
      " '33,333 kms' '33,600 kms' '5,600 kms' '7,500 kms' '26,000 kms'\n",
      " '24,330 kms' '65,480 kms' '28,028 kms' '2,00,000 kms' '99,000 kms'\n",
      " '2,800 kms' '21,000 kms' '11,000 kms' '66,000 kms' '3,000 kms'\n",
      " '7,000 kms' '38,500 kms' '37,200 kms' '43,200 kms' '24,800 kms'\n",
      " '45,872 kms' '40,000 kms' '11,400 kms' '97,200 kms' '52,000 kms'\n",
      " '31,000 kms' '1,75,430 kms' '37,000 kms' '65,000 kms' '3,350 kms'\n",
      " '75,000 kms' '62,000 kms' '73,000 kms' '2,200 kms' '54,870 kms'\n",
      " '34,580 kms' '97,000 kms' '60 kms' '80,200 kms' '3,200 kms' '0,000 kms'\n",
      " '5,000 kms' '588 kms' '71,200 kms' '1,75,400 kms' '9,300 kms'\n",
      " '56,758 kms' '10,000 kms' '56,450 kms' '56,000 kms' '32,700 kms'\n",
      " '9,000 kms' '73 kms' '1,60,000 kms' '84,000 kms' '58,559 kms'\n",
      " '57,000 kms' '1,70,000 kms' '80,000 kms' '6,821 kms' '23,000 kms'\n",
      " '34,000 kms' '1,800 kms' '4,00,000 kms' '48,000 kms' '90,000 kms'\n",
      " '12,000 kms' '69,900 kms' '1,66,000 kms' '122 kms' '0 kms' '24,000 kms'\n",
      " '36,469 kms' '7,800 kms' '24,695 kms' '15,141 kms' '59,910 kms'\n",
      " '1,00,000 kms' '4,500 kms' '1,29,000 kms' '300 kms' '1,31,000 kms'\n",
      " '1,11,111 kms' '59,466 kms' '25,500 kms' '44,005 kms' '2,110 kms'\n",
      " '43,222 kms' '1,00,200 kms' '65 kms' '1,40,000 kms' '1,03,553 kms'\n",
      " '58,000 kms' '1,20,000 kms' '49,800 kms' '100 kms' '81,876 kms'\n",
      " '6,020 kms' '55,700 kms' '18,500 kms' '1,80,000 kms' '53,000 kms'\n",
      " '35,500 kms' '22,134 kms' '1,000 kms' '8,500 kms' '87,000 kms'\n",
      " '6,000 kms' '15,574 kms' '8,000 kms' '55,800 kms' '56,400 kms'\n",
      " '72,160 kms' '11,500 kms' '1,33,000 kms' '2,000 kms' '88,000 kms'\n",
      " '65,422 kms' '1,17,000 kms' '1,50,000 kms' '10,750 kms' '6,800 kms'\n",
      " '5 kms' '9,800 kms' '57,923 kms' '30,201 kms' '6,200 kms' '37,518 kms'\n",
      " '24,652 kms' '383 kms' '95,000 kms' '3,528 kms' '52,500 kms' '47,900 kms'\n",
      " '52,800 kms' '1,95,000 kms' '48,008 kms' '48,247 kms' '9,400 kms'\n",
      " '64,000 kms' '2,137 kms' '10,544 kms' '49,500 kms' '1,47,000 kms'\n",
      " '90,001 kms' '48,006 kms' '74,000 kms' '85,000 kms' '29,500 kms'\n",
      " '39,700 kms' '67,000 kms' '19,336 kms' '60,105 kms' '45,933 kms'\n",
      " '1,02,563 kms' '28,600 kms' '41,800 kms' '1,16,000 kms' '42,590 kms'\n",
      " '7,400 kms' '54,500 kms' '76,000 kms' '00 kms' '11,523 kms' '38,600 kms'\n",
      " '95,500 kms' '37,458 kms' '85,960 kms' '12,516 kms' '30,600 kms'\n",
      " '2,550 kms' '62,500 kms' '69,000 kms' '28,400 kms' '68,485 kms'\n",
      " '3,500 kms' '85,455 kms' '63,000 kms' '1,600 kms' '77,000 kms'\n",
      " '26,500 kms' '2,875 kms' '13,900 kms' '1,500 kms' '2,450 kms' '1,625 kms'\n",
      " '33,400 kms' '60,123 kms' '38,900 kms' '1,37,495 kms' '91,200 kms'\n",
      " '1,46,000 kms' '1,00,800 kms' '2,100 kms' '2,500 kms' '1,32,000 kms'\n",
      " 'Petrol']\n",
      "******************************************************************************************************************************************************\n",
      "['Petrol' 'Diesel' nan 'LPG']\n",
      "******************************************************************************************************************************************************\n"
     ]
    }
   ],
   "source": [
    "for column in data2.columns:\n",
    "    print(data2[column].unique())\n",
    "    print('*'*150)"
   ]
  },
  {
   "cell_type": "code",
   "execution_count": 12,
   "id": "e45e4886-ed5d-41a9-8731-83e3a0e2ba50",
   "metadata": {},
   "outputs": [
    {
     "name": "stdout",
     "output_type": "stream",
     "text": [
      "name\n",
      "Honda City                         13\n",
      "Honda Amaze                        11\n",
      "Maruti Suzuki Dzire                10\n",
      "Mahindra Scorpio S10                9\n",
      "Maruti Suzuki Alto 800 Lxi          9\n",
      "                                   ..\n",
      "Mahindra Bolero DI BSII             1\n",
      "Audi Q3 2.0 TDI quattro Premium     1\n",
      "Skoda Superb 1.8 TFSI AT            1\n",
      "BMW 5 Series 520d Sedan             1\n",
      "Chevrolet Sail 1.2 LT ABS           1\n",
      "Name: count, Length: 525, dtype: int64\n",
      "******************************************************************************************************************************************************\n",
      "company\n",
      "Maruti        235\n",
      "Hyundai       145\n",
      "Mahindra      100\n",
      "Tata           74\n",
      "Honda          61\n",
      "Toyota         39\n",
      "Chevrolet      35\n",
      "Renault        34\n",
      "Ford           31\n",
      "Volkswagen     20\n",
      "Skoda          13\n",
      "Audi           11\n",
      "Datsun          8\n",
      "Mini            8\n",
      "BMW             8\n",
      "Nissan          6\n",
      "Commercial      6\n",
      "Mercedes        6\n",
      "Mitsubishi      6\n",
      "Force           4\n",
      "Fiat            4\n",
      "tata            3\n",
      "Hindustan       3\n",
      "I               3\n",
      "MARUTI          2\n",
      "urgent          2\n",
      "Used            2\n",
      "Jaguar          2\n",
      "Sale            2\n",
      "Well            1\n",
      "Any             1\n",
      "TATA            1\n",
      "sell            1\n",
      "scratch         1\n",
      "9               1\n",
      "7               1\n",
      "all             1\n",
      "Land            1\n",
      "2012            1\n",
      "i               1\n",
      "Volvo           1\n",
      "very            1\n",
      "Jeep            1\n",
      "Swift           1\n",
      "URJENT          1\n",
      "selling         1\n",
      "Yamaha          1\n",
      "Tara            1\n",
      "Name: count, dtype: int64\n",
      "******************************************************************************************************************************************************\n",
      "year\n",
      "2015    117\n",
      "2014     94\n",
      "2013     94\n",
      "2016     76\n",
      "2012     75\n",
      "       ... \n",
      "ture      1\n",
      "emi       1\n",
      "able      1\n",
      "no.       1\n",
      "zest      1\n",
      "Name: count, Length: 61, dtype: int64\n",
      "******************************************************************************************************************************************************\n",
      "Price\n",
      "Ask For Price    35\n",
      "2,50,000         17\n",
      "3,50,000         14\n",
      "1,80,000         13\n",
      "1,30,000         12\n",
      "                 ..\n",
      "7,49,999          1\n",
      "11,30,000         1\n",
      "10,74,999         1\n",
      "3,24,999          1\n",
      "5,00,001          1\n",
      "Name: count, Length: 274, dtype: int64\n",
      "******************************************************************************************************************************************************\n",
      "kms_driven\n",
      "45,000 kms      30\n",
      "35,000 kms      30\n",
      "55,000 kms      25\n",
      "50,000 kms      23\n",
      "20,000 kms      22\n",
      "                ..\n",
      "1,03,553 kms     1\n",
      "29,685 kms       1\n",
      "30,874 kms       1\n",
      "49,800 kms       1\n",
      "1,66,000 kms     1\n",
      "Name: count, Length: 258, dtype: int64\n",
      "******************************************************************************************************************************************************\n",
      "fuel_type\n",
      "Petrol    440\n",
      "Diesel    395\n",
      "LPG         2\n",
      "Name: count, dtype: int64\n",
      "******************************************************************************************************************************************************\n"
     ]
    }
   ],
   "source": [
    "for column in data2.columns:\n",
    "    print(data2[column].value_counts())\n",
    "    print('*'*150)\n",
    "    "
   ]
  },
  {
   "cell_type": "markdown",
   "id": "82d4b98f-0708-4c47-aed8-0f23f2c165ab",
   "metadata": {},
   "source": [
    "# Anomalies\n",
    "\n",
    "- Many objects for int\n",
    "- Too many things in name , slice to 3 words\n",
    "- Year has objs\n",
    "- price has , and non int\n",
    "- company has int\n",
    "- kms driven has , and kms for int\n",
    "- nan value in fuel\n",
    "\n"
   ]
  },
  {
   "cell_type": "markdown",
   "id": "ef7b7d1e-836f-4bd5-8567-a7727732c70e",
   "metadata": {},
   "source": [
    "# For year"
   ]
  },
  {
   "cell_type": "code",
   "execution_count": 13,
   "id": "bb90efa2-b2c9-4ed5-9327-dbde4b79d2b3",
   "metadata": {},
   "outputs": [],
   "source": [
    "data2 = data2[data2['year'].str.isnumeric()]"
   ]
  },
  {
   "cell_type": "code",
   "execution_count": 14,
   "id": "6291b561-ca06-4eab-9ab6-77e2bed7338f",
   "metadata": {},
   "outputs": [],
   "source": [
    "data2['year'] = data2['year'].astype(int)"
   ]
  },
  {
   "cell_type": "code",
   "execution_count": 15,
   "id": "e72e7e2e-f435-4706-9208-0398121bd1ea",
   "metadata": {},
   "outputs": [
    {
     "name": "stdout",
     "output_type": "stream",
     "text": [
      "<class 'pandas.core.frame.DataFrame'>\n",
      "Index: 842 entries, 0 to 891\n",
      "Data columns (total 6 columns):\n",
      " #   Column      Non-Null Count  Dtype \n",
      "---  ------      --------------  ----- \n",
      " 0   name        842 non-null    object\n",
      " 1   company     842 non-null    object\n",
      " 2   year        842 non-null    int32 \n",
      " 3   Price       842 non-null    object\n",
      " 4   kms_driven  840 non-null    object\n",
      " 5   fuel_type   837 non-null    object\n",
      "dtypes: int32(1), object(5)\n",
      "memory usage: 42.8+ KB\n"
     ]
    }
   ],
   "source": [
    "data2.info()"
   ]
  },
  {
   "cell_type": "markdown",
   "id": "e4a27776-3a5f-4821-8496-a2564299806a",
   "metadata": {},
   "source": [
    "# For Price"
   ]
  },
  {
   "cell_type": "code",
   "execution_count": 16,
   "id": "5dce1437-a171-4745-95a2-114faa8e8933",
   "metadata": {},
   "outputs": [],
   "source": [
    "data2 = data2[data2['Price']!= 'Ask For Price']"
   ]
  },
  {
   "cell_type": "code",
   "execution_count": 17,
   "id": "5c6345dd-9791-4e3d-a3fe-d454f93dc093",
   "metadata": {},
   "outputs": [],
   "source": [
    "data2['Price'] = data2['Price'].str.replace(',','').astype(int)"
   ]
  },
  {
   "cell_type": "code",
   "execution_count": 18,
   "id": "a8fa3c48-0885-4e6f-be44-4e53970a3b11",
   "metadata": {},
   "outputs": [
    {
     "data": {
      "text/plain": [
       "0     80000\n",
       "1    425000\n",
       "3    325000\n",
       "4    575000\n",
       "6    175000\n",
       "Name: Price, dtype: int32"
      ]
     },
     "execution_count": 18,
     "metadata": {},
     "output_type": "execute_result"
    }
   ],
   "source": [
    "data2['Price'].head()"
   ]
  },
  {
   "cell_type": "markdown",
   "id": "8c9cc043-c4fa-4d90-aed7-df362232c78e",
   "metadata": {},
   "source": [
    "# For kms Driven"
   ]
  },
  {
   "cell_type": "code",
   "execution_count": 19,
   "id": "cf9b355d-1e4f-4bf2-aa1c-4ab585db54ad",
   "metadata": {},
   "outputs": [],
   "source": [
    "data2['kms_driven'] = data2['kms_driven'].str.split(' ').str.get(0).str.replace(',','')"
   ]
  },
  {
   "cell_type": "code",
   "execution_count": 20,
   "id": "9532f343-12b0-4c59-904a-62e9a4e4e668",
   "metadata": {},
   "outputs": [],
   "source": [
    "data2 = data2[data2['kms_driven'].str.isnumeric()]"
   ]
  },
  {
   "cell_type": "code",
   "execution_count": 21,
   "id": "b7ec8f8b-0346-4a98-9deb-e9b5156403c8",
   "metadata": {},
   "outputs": [],
   "source": [
    "data2['kms_driven'] = data2['kms_driven'].astype(int)"
   ]
  },
  {
   "cell_type": "code",
   "execution_count": 22,
   "id": "80995e57-c818-4fc1-8076-5a01a2b918f3",
   "metadata": {},
   "outputs": [
    {
     "data": {
      "text/html": [
       "<div>\n",
       "<style scoped>\n",
       "    .dataframe tbody tr th:only-of-type {\n",
       "        vertical-align: middle;\n",
       "    }\n",
       "\n",
       "    .dataframe tbody tr th {\n",
       "        vertical-align: top;\n",
       "    }\n",
       "\n",
       "    .dataframe thead th {\n",
       "        text-align: right;\n",
       "    }\n",
       "</style>\n",
       "<table border=\"1\" class=\"dataframe\">\n",
       "  <thead>\n",
       "    <tr style=\"text-align: right;\">\n",
       "      <th></th>\n",
       "      <th>name</th>\n",
       "      <th>company</th>\n",
       "      <th>year</th>\n",
       "      <th>Price</th>\n",
       "      <th>kms_driven</th>\n",
       "      <th>fuel_type</th>\n",
       "    </tr>\n",
       "  </thead>\n",
       "  <tbody>\n",
       "    <tr>\n",
       "      <th>0</th>\n",
       "      <td>Hyundai Santro Xing XO eRLX Euro III</td>\n",
       "      <td>Hyundai</td>\n",
       "      <td>2007</td>\n",
       "      <td>80000</td>\n",
       "      <td>45000</td>\n",
       "      <td>Petrol</td>\n",
       "    </tr>\n",
       "    <tr>\n",
       "      <th>1</th>\n",
       "      <td>Mahindra Jeep CL550 MDI</td>\n",
       "      <td>Mahindra</td>\n",
       "      <td>2006</td>\n",
       "      <td>425000</td>\n",
       "      <td>40</td>\n",
       "      <td>Diesel</td>\n",
       "    </tr>\n",
       "    <tr>\n",
       "      <th>3</th>\n",
       "      <td>Hyundai Grand i10 Magna 1.2 Kappa VTVT</td>\n",
       "      <td>Hyundai</td>\n",
       "      <td>2014</td>\n",
       "      <td>325000</td>\n",
       "      <td>28000</td>\n",
       "      <td>Petrol</td>\n",
       "    </tr>\n",
       "    <tr>\n",
       "      <th>4</th>\n",
       "      <td>Ford EcoSport Titanium 1.5L TDCi</td>\n",
       "      <td>Ford</td>\n",
       "      <td>2014</td>\n",
       "      <td>575000</td>\n",
       "      <td>36000</td>\n",
       "      <td>Diesel</td>\n",
       "    </tr>\n",
       "    <tr>\n",
       "      <th>6</th>\n",
       "      <td>Ford Figo</td>\n",
       "      <td>Ford</td>\n",
       "      <td>2012</td>\n",
       "      <td>175000</td>\n",
       "      <td>41000</td>\n",
       "      <td>Diesel</td>\n",
       "    </tr>\n",
       "  </tbody>\n",
       "</table>\n",
       "</div>"
      ],
      "text/plain": [
       "                                     name   company  year   Price  kms_driven  \\\n",
       "0    Hyundai Santro Xing XO eRLX Euro III   Hyundai  2007   80000       45000   \n",
       "1                 Mahindra Jeep CL550 MDI  Mahindra  2006  425000          40   \n",
       "3  Hyundai Grand i10 Magna 1.2 Kappa VTVT   Hyundai  2014  325000       28000   \n",
       "4        Ford EcoSport Titanium 1.5L TDCi      Ford  2014  575000       36000   \n",
       "6                               Ford Figo      Ford  2012  175000       41000   \n",
       "\n",
       "  fuel_type  \n",
       "0    Petrol  \n",
       "1    Diesel  \n",
       "3    Petrol  \n",
       "4    Diesel  \n",
       "6    Diesel  "
      ]
     },
     "execution_count": 22,
     "metadata": {},
     "output_type": "execute_result"
    }
   ],
   "source": [
    "data2.head()"
   ]
  },
  {
   "cell_type": "markdown",
   "id": "e84ca5d3-d28d-42c0-885e-cef94a8b261b",
   "metadata": {},
   "source": [
    "# For fuel type"
   ]
  },
  {
   "cell_type": "code",
   "execution_count": 23,
   "id": "2dfd9340-4938-4791-adf8-ae6d77e87fb4",
   "metadata": {},
   "outputs": [],
   "source": [
    "data2 = data2[~data2['fuel_type'].isna()]"
   ]
  },
  {
   "cell_type": "code",
   "execution_count": 24,
   "id": "0b99fd5e-c13c-4e17-8f49-abf81e271839",
   "metadata": {},
   "outputs": [
    {
     "data": {
      "text/plain": [
       "array(['Petrol', 'Diesel', 'LPG'], dtype=object)"
      ]
     },
     "execution_count": 24,
     "metadata": {},
     "output_type": "execute_result"
    }
   ],
   "source": [
    "data2['fuel_type'].unique()"
   ]
  },
  {
   "cell_type": "markdown",
   "id": "e5d7fba6-a890-4a22-aa56-bbf8473a82b4",
   "metadata": {},
   "source": [
    "# For company"
   ]
  },
  {
   "cell_type": "code",
   "execution_count": 25,
   "id": "6071dd11-a563-4229-a6d6-0dd87492b8dc",
   "metadata": {},
   "outputs": [
    {
     "data": {
      "text/plain": [
       "company\n",
       "Maruti        221\n",
       "Hyundai       139\n",
       "Mahindra       98\n",
       "Tata           65\n",
       "Honda          60\n",
       "Toyota         36\n",
       "Chevrolet      34\n",
       "Renault        33\n",
       "Ford           30\n",
       "Volkswagen     19\n",
       "Skoda          13\n",
       "Audi           11\n",
       "Mini            8\n",
       "BMW             8\n",
       "Datsun          7\n",
       "Mitsubishi      6\n",
       "Nissan          6\n",
       "Mercedes        6\n",
       "Fiat            4\n",
       "Force           4\n",
       "Hindustan       3\n",
       "Jaguar          2\n",
       "Land            1\n",
       "Jeep            1\n",
       "Volvo           1\n",
       "Name: count, dtype: int64"
      ]
     },
     "execution_count": 25,
     "metadata": {},
     "output_type": "execute_result"
    }
   ],
   "source": [
    "data2['company'].value_counts()"
   ]
  },
  {
   "cell_type": "code",
   "execution_count": 26,
   "id": "5c0c27ae-994c-4636-983d-1ba15346c734",
   "metadata": {},
   "outputs": [],
   "source": [
    "data2 = data2[~data2['company'].str.isnumeric()]"
   ]
  },
  {
   "cell_type": "code",
   "execution_count": 27,
   "id": "fe55d9ee-85dd-46ae-be94-8f1f7e6f32d6",
   "metadata": {},
   "outputs": [
    {
     "name": "stdout",
     "output_type": "stream",
     "text": [
      "False\n"
     ]
    }
   ],
   "source": [
    "print((data2['company'].value_counts) == 1)"
   ]
  },
  {
   "cell_type": "code",
   "execution_count": 28,
   "id": "a93bbce5-dafd-451f-89ed-cc22258dbc7f",
   "metadata": {},
   "outputs": [
    {
     "data": {
      "text/plain": [
       "company\n",
       "Maruti        221\n",
       "Hyundai       139\n",
       "Mahindra       98\n",
       "Tata           65\n",
       "Honda          60\n",
       "Toyota         36\n",
       "Chevrolet      34\n",
       "Renault        33\n",
       "Ford           30\n",
       "Volkswagen     19\n",
       "Skoda          13\n",
       "Audi           11\n",
       "Mini            8\n",
       "BMW             8\n",
       "Datsun          7\n",
       "Mitsubishi      6\n",
       "Nissan          6\n",
       "Mercedes        6\n",
       "Fiat            4\n",
       "Force           4\n",
       "Hindustan       3\n",
       "Jaguar          2\n",
       "Land            1\n",
       "Jeep            1\n",
       "Volvo           1\n",
       "Name: count, dtype: int64"
      ]
     },
     "execution_count": 28,
     "metadata": {},
     "output_type": "execute_result"
    }
   ],
   "source": [
    "data2['company'].value_counts()"
   ]
  },
  {
   "cell_type": "markdown",
   "id": "6be81402-c5ba-4458-89bc-b4842e8389f7",
   "metadata": {},
   "source": [
    "# For Name"
   ]
  },
  {
   "cell_type": "code",
   "execution_count": 29,
   "id": "65d950db-a6d1-49f4-8344-b8dcaadbb2b6",
   "metadata": {},
   "outputs": [
    {
     "data": {
      "text/plain": [
       "0    Hyundai Santro Xing XO eRLX Euro III\n",
       "Name: name, dtype: object"
      ]
     },
     "execution_count": 29,
     "metadata": {},
     "output_type": "execute_result"
    }
   ],
   "source": [
    "data2['name'].head(1)"
   ]
  },
  {
   "cell_type": "code",
   "execution_count": 32,
   "id": "1f1773ae-2a03-4156-977c-7a2f78e5f100",
   "metadata": {},
   "outputs": [],
   "source": [
    "data2['name'] = data2['name'].str.split(' ').str.slice(0,3).str.join(' ')"
   ]
  },
  {
   "cell_type": "code",
   "execution_count": 41,
   "id": "ada26a98-21a7-48a7-ba23-baf80d8ba6c5",
   "metadata": {
    "scrolled": true
   },
   "outputs": [],
   "source": [
    "data2 = data2.reset_index(drop = True)"
   ]
  },
  {
   "cell_type": "code",
   "execution_count": 43,
   "id": "c6263072-768c-4056-823d-e598b589d525",
   "metadata": {},
   "outputs": [
    {
     "name": "stdout",
     "output_type": "stream",
     "text": [
      "<class 'pandas.core.frame.DataFrame'>\n",
      "RangeIndex: 816 entries, 0 to 815\n",
      "Data columns (total 6 columns):\n",
      " #   Column      Non-Null Count  Dtype \n",
      "---  ------      --------------  ----- \n",
      " 0   name        816 non-null    object\n",
      " 1   company     816 non-null    object\n",
      " 2   year        816 non-null    int32 \n",
      " 3   Price       816 non-null    int32 \n",
      " 4   kms_driven  816 non-null    int32 \n",
      " 5   fuel_type   816 non-null    object\n",
      "dtypes: int32(3), object(3)\n",
      "memory usage: 28.8+ KB\n"
     ]
    }
   ],
   "source": [
    "data2.info()"
   ]
  },
  {
   "cell_type": "code",
   "execution_count": 44,
   "id": "c73ab8a4-9867-4dc0-b251-8298d19b7e8e",
   "metadata": {},
   "outputs": [
    {
     "data": {
      "text/html": [
       "<div>\n",
       "<style scoped>\n",
       "    .dataframe tbody tr th:only-of-type {\n",
       "        vertical-align: middle;\n",
       "    }\n",
       "\n",
       "    .dataframe tbody tr th {\n",
       "        vertical-align: top;\n",
       "    }\n",
       "\n",
       "    .dataframe thead th {\n",
       "        text-align: right;\n",
       "    }\n",
       "</style>\n",
       "<table border=\"1\" class=\"dataframe\">\n",
       "  <thead>\n",
       "    <tr style=\"text-align: right;\">\n",
       "      <th></th>\n",
       "      <th>year</th>\n",
       "      <th>Price</th>\n",
       "      <th>kms_driven</th>\n",
       "    </tr>\n",
       "  </thead>\n",
       "  <tbody>\n",
       "    <tr>\n",
       "      <th>count</th>\n",
       "      <td>816.000000</td>\n",
       "      <td>8.160000e+02</td>\n",
       "      <td>816.000000</td>\n",
       "    </tr>\n",
       "    <tr>\n",
       "      <th>mean</th>\n",
       "      <td>2012.444853</td>\n",
       "      <td>4.117176e+05</td>\n",
       "      <td>46275.531863</td>\n",
       "    </tr>\n",
       "    <tr>\n",
       "      <th>std</th>\n",
       "      <td>4.002992</td>\n",
       "      <td>4.751844e+05</td>\n",
       "      <td>34297.428044</td>\n",
       "    </tr>\n",
       "    <tr>\n",
       "      <th>min</th>\n",
       "      <td>1995.000000</td>\n",
       "      <td>3.000000e+04</td>\n",
       "      <td>0.000000</td>\n",
       "    </tr>\n",
       "    <tr>\n",
       "      <th>25%</th>\n",
       "      <td>2010.000000</td>\n",
       "      <td>1.750000e+05</td>\n",
       "      <td>27000.000000</td>\n",
       "    </tr>\n",
       "    <tr>\n",
       "      <th>50%</th>\n",
       "      <td>2013.000000</td>\n",
       "      <td>2.999990e+05</td>\n",
       "      <td>41000.000000</td>\n",
       "    </tr>\n",
       "    <tr>\n",
       "      <th>75%</th>\n",
       "      <td>2015.000000</td>\n",
       "      <td>4.912500e+05</td>\n",
       "      <td>56818.500000</td>\n",
       "    </tr>\n",
       "    <tr>\n",
       "      <th>max</th>\n",
       "      <td>2019.000000</td>\n",
       "      <td>8.500003e+06</td>\n",
       "      <td>400000.000000</td>\n",
       "    </tr>\n",
       "  </tbody>\n",
       "</table>\n",
       "</div>"
      ],
      "text/plain": [
       "              year         Price     kms_driven\n",
       "count   816.000000  8.160000e+02     816.000000\n",
       "mean   2012.444853  4.117176e+05   46275.531863\n",
       "std       4.002992  4.751844e+05   34297.428044\n",
       "min    1995.000000  3.000000e+04       0.000000\n",
       "25%    2010.000000  1.750000e+05   27000.000000\n",
       "50%    2013.000000  2.999990e+05   41000.000000\n",
       "75%    2015.000000  4.912500e+05   56818.500000\n",
       "max    2019.000000  8.500003e+06  400000.000000"
      ]
     },
     "execution_count": 44,
     "metadata": {},
     "output_type": "execute_result"
    }
   ],
   "source": [
    "data2.describe()"
   ]
  },
  {
   "cell_type": "markdown",
   "id": "d3b67b4c-392e-4178-9f7c-c00abecb3066",
   "metadata": {},
   "source": [
    "# Idetifing the Outlier"
   ]
  },
  {
   "cell_type": "code",
   "execution_count": 49,
   "id": "faa0bfdb-193c-4d8b-94f2-29f3cbbc8965",
   "metadata": {},
   "outputs": [
    {
     "data": {
      "text/plain": [
       "<Axes: xlabel='Price', ylabel='Count'>"
      ]
     },
     "execution_count": 49,
     "metadata": {},
     "output_type": "execute_result"
    },
    {
     "data": {
      "image/png": "[encoded data removed]",
      "text/plain": [
       "<Figure size 800x500 with 1 Axes>"
      ]
     },
     "metadata": {},
     "output_type": "display_data"
    },
    {
     "data": {
      "image/png": "[encoded data removed]",
      "text/plain": [
       "<Figure size 500x500 with 1 Axes>"
      ]
     },
     "metadata": {},
     "output_type": "display_data"
    }
   ],
   "source": [
    "fig, ax = plt.subplots(figsize = (8,5))\n",
    "sns.histplot(data2.kms_driven)\n",
    "fig, ax = plt.subplots(figsize = (5,5))\n",
    "sns.histplot(data2.Price)"
   ]
  },
  {
   "cell_type": "markdown",
   "id": "4c9128e7-06d7-461f-bfe8-03c9fdb83d39",
   "metadata": {},
   "source": [
    "## Outliers"
   ]
  },
  {
   "cell_type": "code",
   "execution_count": 51,
   "id": "6d4a62ae-6368-4750-bed6-75b9079db1d5",
   "metadata": {},
   "outputs": [
    {
     "data": {
      "text/html": [
       "<div>\n",
       "<style scoped>\n",
       "    .dataframe tbody tr th:only-of-type {\n",
       "        vertical-align: middle;\n",
       "    }\n",
       "\n",
       "    .dataframe tbody tr th {\n",
       "        vertical-align: top;\n",
       "    }\n",
       "\n",
       "    .dataframe thead th {\n",
       "        text-align: right;\n",
       "    }\n",
       "</style>\n",
       "<table border=\"1\" class=\"dataframe\">\n",
       "  <thead>\n",
       "    <tr style=\"text-align: right;\">\n",
       "      <th></th>\n",
       "      <th>name</th>\n",
       "      <th>company</th>\n",
       "      <th>year</th>\n",
       "      <th>Price</th>\n",
       "      <th>kms_driven</th>\n",
       "      <th>fuel_type</th>\n",
       "    </tr>\n",
       "  </thead>\n",
       "  <tbody>\n",
       "    <tr>\n",
       "      <th>534</th>\n",
       "      <td>Mahindra XUV500 W6</td>\n",
       "      <td>Mahindra</td>\n",
       "      <td>2014</td>\n",
       "      <td>8500003</td>\n",
       "      <td>45000</td>\n",
       "      <td>Diesel</td>\n",
       "    </tr>\n",
       "  </tbody>\n",
       "</table>\n",
       "</div>"
      ],
      "text/plain": [
       "                   name   company  year    Price  kms_driven fuel_type\n",
       "534  Mahindra XUV500 W6  Mahindra  2014  8500003       45000    Diesel"
      ]
     },
     "execution_count": 51,
     "metadata": {},
     "output_type": "execute_result"
    }
   ],
   "source": [
    "data2[data2['Price']>6e6]"
   ]
  },
  {
   "cell_type": "code",
   "execution_count": 52,
   "id": "45ccf2ca-344e-4e32-9efb-0938f731fa07",
   "metadata": {},
   "outputs": [
    {
     "data": {
      "text/html": [
       "<div>\n",
       "<style scoped>\n",
       "    .dataframe tbody tr th:only-of-type {\n",
       "        vertical-align: middle;\n",
       "    }\n",
       "\n",
       "    .dataframe tbody tr th {\n",
       "        vertical-align: top;\n",
       "    }\n",
       "\n",
       "    .dataframe thead th {\n",
       "        text-align: right;\n",
       "    }\n",
       "</style>\n",
       "<table border=\"1\" class=\"dataframe\">\n",
       "  <thead>\n",
       "    <tr style=\"text-align: right;\">\n",
       "      <th></th>\n",
       "      <th>name</th>\n",
       "      <th>company</th>\n",
       "      <th>year</th>\n",
       "      <th>Price</th>\n",
       "      <th>kms_driven</th>\n",
       "      <th>fuel_type</th>\n",
       "    </tr>\n",
       "  </thead>\n",
       "  <tbody>\n",
       "    <tr>\n",
       "      <th>348</th>\n",
       "      <td>Honda City 1.5</td>\n",
       "      <td>Honda</td>\n",
       "      <td>2010</td>\n",
       "      <td>240000</td>\n",
       "      <td>400000</td>\n",
       "      <td>Petrol</td>\n",
       "    </tr>\n",
       "  </tbody>\n",
       "</table>\n",
       "</div>"
      ],
      "text/plain": [
       "               name company  year   Price  kms_driven fuel_type\n",
       "348  Honda City 1.5   Honda  2010  240000      400000    Petrol"
      ]
     },
     "execution_count": 52,
     "metadata": {},
     "output_type": "execute_result"
    }
   ],
   "source": [
    "data2[data2['kms_driven']>350000]"
   ]
  },
  {
   "cell_type": "code",
   "execution_count": 53,
   "id": "b42bd869-877b-4a05-906a-df6096a760ef",
   "metadata": {},
   "outputs": [],
   "source": [
    "data2 = data2[data2['Price']<6e6].reset_index(drop= True)"
   ]
  },
  {
   "cell_type": "code",
   "execution_count": 54,
   "id": "5ebd66c1-a8c3-4471-a92d-23986892ec3f",
   "metadata": {},
   "outputs": [],
   "source": [
    "data2 = data2[data2['kms_driven']<350000].reset_index(drop= True)"
   ]
  },
  {
   "cell_type": "code",
   "execution_count": 55,
   "id": "ea8934eb-d5f0-4b2a-88aa-f5873d509515",
   "metadata": {},
   "outputs": [
    {
     "data": {
      "text/html": [
       "<div>\n",
       "<style scoped>\n",
       "    .dataframe tbody tr th:only-of-type {\n",
       "        vertical-align: middle;\n",
       "    }\n",
       "\n",
       "    .dataframe tbody tr th {\n",
       "        vertical-align: top;\n",
       "    }\n",
       "\n",
       "    .dataframe thead th {\n",
       "        text-align: right;\n",
       "    }\n",
       "</style>\n",
       "<table border=\"1\" class=\"dataframe\">\n",
       "  <thead>\n",
       "    <tr style=\"text-align: right;\">\n",
       "      <th></th>\n",
       "      <th>year</th>\n",
       "      <th>Price</th>\n",
       "      <th>kms_driven</th>\n",
       "    </tr>\n",
       "  </thead>\n",
       "  <tbody>\n",
       "    <tr>\n",
       "      <th>count</th>\n",
       "      <td>814.000000</td>\n",
       "      <td>8.140000e+02</td>\n",
       "      <td>814.000000</td>\n",
       "    </tr>\n",
       "    <tr>\n",
       "      <th>mean</th>\n",
       "      <td>2012.445946</td>\n",
       "      <td>4.019921e+05</td>\n",
       "      <td>45842.547912</td>\n",
       "    </tr>\n",
       "    <tr>\n",
       "      <th>std</th>\n",
       "      <td>4.006625</td>\n",
       "      <td>3.817812e+05</td>\n",
       "      <td>32017.452360</td>\n",
       "    </tr>\n",
       "    <tr>\n",
       "      <th>min</th>\n",
       "      <td>1995.000000</td>\n",
       "      <td>3.000000e+04</td>\n",
       "      <td>0.000000</td>\n",
       "    </tr>\n",
       "    <tr>\n",
       "      <th>25%</th>\n",
       "      <td>2010.000000</td>\n",
       "      <td>1.750000e+05</td>\n",
       "      <td>27000.000000</td>\n",
       "    </tr>\n",
       "    <tr>\n",
       "      <th>50%</th>\n",
       "      <td>2013.000000</td>\n",
       "      <td>2.999990e+05</td>\n",
       "      <td>41000.000000</td>\n",
       "    </tr>\n",
       "    <tr>\n",
       "      <th>75%</th>\n",
       "      <td>2015.000000</td>\n",
       "      <td>4.900000e+05</td>\n",
       "      <td>56681.000000</td>\n",
       "    </tr>\n",
       "    <tr>\n",
       "      <th>max</th>\n",
       "      <td>2019.000000</td>\n",
       "      <td>3.100000e+06</td>\n",
       "      <td>200000.000000</td>\n",
       "    </tr>\n",
       "  </tbody>\n",
       "</table>\n",
       "</div>"
      ],
      "text/plain": [
       "              year         Price     kms_driven\n",
       "count   814.000000  8.140000e+02     814.000000\n",
       "mean   2012.445946  4.019921e+05   45842.547912\n",
       "std       4.006625  3.817812e+05   32017.452360\n",
       "min    1995.000000  3.000000e+04       0.000000\n",
       "25%    2010.000000  1.750000e+05   27000.000000\n",
       "50%    2013.000000  2.999990e+05   41000.000000\n",
       "75%    2015.000000  4.900000e+05   56681.000000\n",
       "max    2019.000000  3.100000e+06  200000.000000"
      ]
     },
     "execution_count": 55,
     "metadata": {},
     "output_type": "execute_result"
    }
   ],
   "source": [
    "data2.describe()"
   ]
  },
  {
   "cell_type": "markdown",
   "id": "0c5f578b-eafa-488e-a530-c6250683cfd5",
   "metadata": {},
   "source": [
    "# Cleaned Data"
   ]
  },
  {
   "cell_type": "code",
   "execution_count": 60,
   "id": "140aaf1a-8c15-4ec6-bb23-257391ec5271",
   "metadata": {},
   "outputs": [
    {
     "data": {
      "text/html": [
       "<div>\n",
       "<style scoped>\n",
       "    .dataframe tbody tr th:only-of-type {\n",
       "        vertical-align: middle;\n",
       "    }\n",
       "\n",
       "    .dataframe tbody tr th {\n",
       "        vertical-align: top;\n",
       "    }\n",
       "\n",
       "    .dataframe thead th {\n",
       "        text-align: right;\n",
       "    }\n",
       "</style>\n",
       "<table border=\"1\" class=\"dataframe\">\n",
       "  <thead>\n",
       "    <tr style=\"text-align: right;\">\n",
       "      <th></th>\n",
       "      <th>name</th>\n",
       "      <th>company</th>\n",
       "      <th>year</th>\n",
       "      <th>Price</th>\n",
       "      <th>kms_driven</th>\n",
       "      <th>fuel_type</th>\n",
       "    </tr>\n",
       "  </thead>\n",
       "  <tbody>\n",
       "    <tr>\n",
       "      <th>0</th>\n",
       "      <td>Hyundai Santro Xing</td>\n",
       "      <td>Hyundai</td>\n",
       "      <td>2007</td>\n",
       "      <td>80000</td>\n",
       "      <td>45000</td>\n",
       "      <td>Petrol</td>\n",
       "    </tr>\n",
       "    <tr>\n",
       "      <th>1</th>\n",
       "      <td>Mahindra Jeep CL550</td>\n",
       "      <td>Mahindra</td>\n",
       "      <td>2006</td>\n",
       "      <td>425000</td>\n",
       "      <td>40</td>\n",
       "      <td>Diesel</td>\n",
       "    </tr>\n",
       "    <tr>\n",
       "      <th>2</th>\n",
       "      <td>Hyundai Grand i10</td>\n",
       "      <td>Hyundai</td>\n",
       "      <td>2014</td>\n",
       "      <td>325000</td>\n",
       "      <td>28000</td>\n",
       "      <td>Petrol</td>\n",
       "    </tr>\n",
       "    <tr>\n",
       "      <th>3</th>\n",
       "      <td>Ford EcoSport Titanium</td>\n",
       "      <td>Ford</td>\n",
       "      <td>2014</td>\n",
       "      <td>575000</td>\n",
       "      <td>36000</td>\n",
       "      <td>Diesel</td>\n",
       "    </tr>\n",
       "    <tr>\n",
       "      <th>4</th>\n",
       "      <td>Ford Figo</td>\n",
       "      <td>Ford</td>\n",
       "      <td>2012</td>\n",
       "      <td>175000</td>\n",
       "      <td>41000</td>\n",
       "      <td>Diesel</td>\n",
       "    </tr>\n",
       "  </tbody>\n",
       "</table>\n",
       "</div>"
      ],
      "text/plain": [
       "                     name   company  year   Price  kms_driven fuel_type\n",
       "0     Hyundai Santro Xing   Hyundai  2007   80000       45000    Petrol\n",
       "1     Mahindra Jeep CL550  Mahindra  2006  425000          40    Diesel\n",
       "2       Hyundai Grand i10   Hyundai  2014  325000       28000    Petrol\n",
       "3  Ford EcoSport Titanium      Ford  2014  575000       36000    Diesel\n",
       "4               Ford Figo      Ford  2012  175000       41000    Diesel"
      ]
     },
     "execution_count": 60,
     "metadata": {},
     "output_type": "execute_result"
    }
   ],
   "source": [
    "data2.head()"
   ]
  },
  {
   "cell_type": "code",
   "execution_count": 61,
   "id": "39667823-5a5f-49de-b597-7f55140cb86a",
   "metadata": {},
   "outputs": [],
   "source": [
    "data2.to_csv('Cleaned Car_data.csv')"
   ]
  },
  {
   "cell_type": "code",
   "execution_count": null,
   "id": "f45e151e-95c8-497e-b1fa-da33a7531f5b",
   "metadata": {},
   "outputs": [],
   "source": []
  }
 ],
 "metadata": {
  "kernelspec": {
   "display_name": "Python 3 (ipykernel)",
   "language": "python",
   "name": "python3"
  },
  "language_info": {
   "codemirror_mode": {
    "name": "ipython",
    "version": 3
   },
   "file_extension": ".py",
   "mimetype": "text/x-python",
   "name": "python",
   "nbconvert_exporter": "python",
   "pygments_lexer": "ipython3",
   "version": "3.12.1"
  }
 },
 "nbformat": 4,
 "nbformat_minor": 5
}
